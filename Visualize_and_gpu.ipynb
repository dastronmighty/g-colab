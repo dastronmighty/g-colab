{
  "nbformat": 4,
  "nbformat_minor": 0,
  "metadata": {
    "colab": {
      "name": "Visualize_and_gpu.ipynb",
      "provenance": [],
      "collapsed_sections": [],
      "authorship_tag": "ABX9TyMdpsR9sN9ymLrGH3tNe94m",
      "include_colab_link": true
    },
    "kernelspec": {
      "name": "python3",
      "display_name": "Python 3"
    }
  },
  "cells": [
    {
      "cell_type": "markdown",
      "metadata": {
        "id": "view-in-github",
        "colab_type": "text"
      },
      "source": [
        "<a href=\"https://colab.research.google.com/github/dastronmighty/g-colab/blob/main/Visualize_and_gpu.ipynb\" target=\"_parent\"><img src=\"https://colab.research.google.com/assets/colab-badge.svg\" alt=\"Open In Colab\"/></a>"
      ]
    },
    {
      "cell_type": "code",
      "metadata": {
        "id": "w8YtLk49MA3A"
      },
      "source": [
        "! pip install -q hiddenlayer"
      ],
      "execution_count": 2,
      "outputs": []
    },
    {
      "cell_type": "code",
      "metadata": {
        "id": "bgYR7TTRL7RZ"
      },
      "source": [
        "import time\n",
        "\n",
        "from matplotlib import pyplot as plt\n",
        "import numpy as np\n",
        "import pandas as pd #for good luck (who knows we might need it)\n",
        "\n",
        "# The Golden Child\n",
        "import torch\n",
        "\n",
        "from torch import nn\n",
        "import torch.nn.functional as F\n",
        "\n",
        "from torch.utils.data import TensorDataset\n",
        "from torch.utils.data import DataLoader\n",
        "\n",
        "import hiddenlayer as hl\n",
        "\n",
        "\n",
        "from IPython.core.debugger import set_trace\n",
        "\n",
        "BATCH_SIZE = 64\n",
        "LEARNING_RATE = 0.001\n",
        "EPOCHS=10"
      ],
      "execution_count": 19,
      "outputs": []
    },
    {
      "cell_type": "code",
      "metadata": {
        "colab": {
          "base_uri": "https://localhost:8080/",
          "height": 434
        },
        "id": "pqGLIvYBMKKd",
        "outputId": "c2fae3c0-d216-41c6-cf20-ccb1296c96c2"
      },
      "source": [
        "mnist_test = pd.read_csv(\"/content/sample_data/mnist_test.csv\")\n",
        "mnist_train = pd.read_csv(\"/content/sample_data/mnist_train_small.csv\")\n",
        "y_test_ = mnist_test.values[:,0].astype(int)\n",
        "x_test_ = mnist_test.values[:,1:].astype(float)\n",
        "y_train_ = mnist_train.values[:,0].astype(int)\n",
        "x_train_ = mnist_train.values[:,1:].astype(float)\n",
        "x_train = torch.tensor(x_train_, dtype=torch.float)\n",
        "y_train = torch.tensor(y_train_, dtype=torch.long)\n",
        "x_test = torch.tensor(x_test_, dtype=torch.float)\n",
        "y_test  = torch.tensor(y_test_, dtype=torch.long)\n",
        "\n",
        "n, c = x_train.shape\n",
        "print(x_train, y_train)\n",
        "print(x_train.shape)\n",
        "print(y_train.min(), y_train.max())\n",
        "\n",
        "idx = np.random.randint(0, x_train_.shape[0]) - 9\n",
        "x = plt.title(\"The Number is \"+str(y_train_[idx]))\n",
        "x = plt.imshow(x_train_[idx].reshape((28, 28)), cmap=\"gray\")\n"
      ],
      "execution_count": 20,
      "outputs": [
        {
          "output_type": "stream",
          "text": [
            "tensor([[0., 0., 0.,  ..., 0., 0., 0.],\n",
            "        [0., 0., 0.,  ..., 0., 0., 0.],\n",
            "        [0., 0., 0.,  ..., 0., 0., 0.],\n",
            "        ...,\n",
            "        [0., 0., 0.,  ..., 0., 0., 0.],\n",
            "        [0., 0., 0.,  ..., 0., 0., 0.],\n",
            "        [0., 0., 0.,  ..., 0., 0., 0.]]) tensor([5, 7, 9,  ..., 2, 9, 5])\n",
            "torch.Size([19999, 784])\n",
            "tensor(0) tensor(9)\n"
          ],
          "name": "stdout"
        },
        {
          "output_type": "display_data",
          "data": {
            "image/png": "[encoded data removed]",
            "text/plain": [
              "<Figure size 432x288 with 1 Axes>"
            ]
          },
          "metadata": {
            "tags": [],
            "needs_background": "light"
          }
        }
      ]
    },
    {
      "cell_type": "code",
      "metadata": {
        "id": "bYIjgu0QMhQZ"
      },
      "source": [
        "dev = torch.device(\"cuda\") if torch.cuda.is_available() else torch.device(\"cpu\")\n",
        "\n",
        "def accuracy(out, yb):\n",
        "    preds = torch.argmax(out, dim=1)\n",
        "    return (preds == yb).float().mean()\n",
        "\n",
        "def loss_batch(model, loss_func, xb, yb, opt=None):\n",
        "  loss = loss_func(model(xb), yb)\n",
        "  if opt is not None:\n",
        "    loss.backward()\n",
        "    opt.step()\n",
        "    opt.zero_grad()\n",
        "  return loss.item(), len(xb)\n",
        "\n",
        "def fit(epochs, model, loss_func, opt, train_dl, valid_dl):\n",
        "  history = []\n",
        "  for epoch in range(epochs):\n",
        "    t1 = int(time.time() * 1000) \n",
        "    model.train()\n",
        "    tlosses, tnums = zip(\n",
        "        *[loss_batch(model, loss_func, xb, yb, opt) for xb, yb in train_dl]\n",
        "      )\n",
        "    model.eval()\n",
        "    with torch.no_grad():\n",
        "      losses, nums = zip(\n",
        "        *[loss_batch(model, loss_func, xb, yb) for xb, yb in valid_dl]\n",
        "      )\n",
        "    train_loss = np.sum(np.multiply(tlosses, tnums)) / np.sum(tnums)\n",
        "    train_acc = np.array([accuracy(model(xb), yb).item() for xb, yb in train_dl]).mean()\n",
        "    val_acc = np.array([accuracy(model(xb), yb).item() for xb, yb in valid_dl]).mean()\n",
        "    val_loss = np.sum(np.multiply(losses, nums)) / np.sum(nums)\n",
        "    t_ex = round((int(time.time() * 1000) ) - t1, 0)\n",
        "    history.append({\n",
        "        \"epoch\": epoch,\n",
        "        \"train_acc\": train_acc,\n",
        "        \"train_loss\": train_loss,\n",
        "        \"val_acc\": val_acc,\n",
        "        \"val_loss\": val_loss,\n",
        "        \"time\": t_ex\n",
        "    })\n",
        "    print(f\"Epoch: {epoch+1}\\tVal. Loss: {val_loss}\\tVal. Acc. {val_acc}\\tTime {t_ex}ms\")\n",
        "  return history\n",
        "\n",
        "def get_data(train_ds, valid_ds, bs):\n",
        "    return (\n",
        "        DataLoader(train_ds, batch_size=bs, shuffle=True),\n",
        "        DataLoader(valid_ds, batch_size=bs * 2),\n",
        "    )\n",
        "\n",
        "class Lambda(nn.Module):\n",
        "    def __init__(self, func):\n",
        "        super().__init__()\n",
        "        self.func = func\n",
        "\n",
        "    def forward(self, x):\n",
        "        return self.func(x)\n",
        "\n",
        "def preprocess_nogpu(x, y):\n",
        "    return x.view(-1, 1, 28, 28), y\n",
        "\n",
        "def preprocess(x, y):\n",
        "    return x.view(-1, 1, 28, 28).to(dev), y.to(dev)\n",
        "\n",
        "\n",
        "class WrappedDataLoader:\n",
        "    def __init__(self, dl, func):\n",
        "        self.dl = dl\n",
        "        self.func = func\n",
        "\n",
        "    def __len__(self):\n",
        "        return len(self.dl)\n",
        "\n",
        "    def __iter__(self):\n",
        "        batches = iter(self.dl)\n",
        "        for b in batches:\n",
        "            yield (self.func(*b))"
      ],
      "execution_count": 25,
      "outputs": []
    },
    {
      "cell_type": "code",
      "metadata": {
        "colab": {
          "base_uri": "https://localhost:8080/"
        },
        "id": "5aU10MgTMwK0",
        "outputId": "1668d689-e038-4ffc-9021-5124b1474b9b"
      },
      "source": [
        "loss_func = F.cross_entropy \n",
        "\n",
        "train_ds = TensorDataset(x_train, y_train)\n",
        "valid_ds = TensorDataset(x_test, y_test)\n",
        "train_dl, valid_dl = get_data(train_ds, valid_ds, BATCH_SIZE)\n",
        "train_dl = WrappedDataLoader(train_dl, preprocess)\n",
        "valid_dl = WrappedDataLoader(valid_dl, preprocess)\n",
        "\n",
        "model = nn.Sequential(\n",
        "    nn.Conv2d(1, 16, kernel_size=3, stride=2, padding=1),\n",
        "    nn.ReLU(),\n",
        "    nn.Conv2d(16, 16, kernel_size=3, stride=2, padding=1),\n",
        "    nn.ReLU(),\n",
        "    nn.Conv2d(16, 10, kernel_size=3, stride=2, padding=1),\n",
        "    nn.ReLU(),\n",
        "    nn.AdaptiveAvgPool2d(1),\n",
        "    Lambda(lambda x: x.view(x.size(0), -1)),\n",
        ")\n",
        "\n",
        "model.to(dev)\n",
        "opt = torch.optim.SGD(model.parameters(), lr=LEARNING_RATE, momentum=0.9)\n",
        "\n",
        "cnnhistgpu = fit(EPOCHS, model, loss_func, opt, train_dl, valid_dl)"
      ],
      "execution_count": 26,
      "outputs": [
        {
          "output_type": "stream",
          "text": [
            "Epoch: 1\tVal. Loss: 0.6735810263119455\tVal. Acc. 0.8035403482521637\tTime 5220ms\n",
            "Epoch: 2\tVal. Loss: 0.4140733826150297\tVal. Acc. 0.8826147151898734\tTime 5335ms\n",
            "Epoch: 3\tVal. Loss: 0.360512714317762\tVal. Acc. 0.8973496835443038\tTime 6161ms\n",
            "Epoch: 4\tVal. Loss: 0.3316141818725046\tVal. Acc. 0.9071400316455697\tTime 5284ms\n",
            "Epoch: 5\tVal. Loss: 0.29924720537738214\tVal. Acc. 0.9196004746835443\tTime 5226ms\n",
            "Epoch: 6\tVal. Loss: 0.27734303616504424\tVal. Acc. 0.9217761075949367\tTime 5151ms\n",
            "Epoch: 7\tVal. Loss: 0.2601038596060726\tVal. Acc. 0.9261273734177216\tTime 5134ms\n",
            "Epoch: 8\tVal. Loss: 0.23762093476987634\tVal. Acc. 0.9319620253164557\tTime 5120ms\n",
            "Epoch: 9\tVal. Loss: 0.2271917060416977\tVal. Acc. 0.9357199367088608\tTime 5102ms\n",
            "Epoch: 10\tVal. Loss: 0.20450340674826653\tVal. Acc. 0.9401700949367089\tTime 5113ms\n"
          ],
          "name": "stdout"
        }
      ]
    },
    {
      "cell_type": "code",
      "metadata": {
        "colab": {
          "base_uri": "https://localhost:8080/",
          "height": 554
        },
        "id": "eB8sFzPIMyrB",
        "outputId": "d56df01c-768f-4bc7-cced-7d7830ce5edf"
      },
      "source": [
        "train_dl, valid_dl = get_data(train_ds, valid_ds, BATCH_SIZE)\n",
        "valid_dl = WrappedDataLoader(valid_dl, preprocess_nogpu)\n",
        "model.to('cpu')\n",
        "inputs, classes = next(iter(valid_dl))\n",
        "y = model(inputs)\n",
        "model_history = hl.History()\n",
        "model_canv = hl.Canvas()\n",
        "for h in cnnhistgpu:\n",
        "  model_history.log(step=h[\"epoch\"], loss=h[\"val_loss\"], accuracy=h[\"val_acc\"], train_loss=h[\"train_loss\"], train_acc=h[\"train_acc\"])\n",
        "with model_canv:\n",
        "    model_canv.draw_plot([model_history[\"loss\"], model_history[\"accuracy\"], model_history[\"train_loss\"],model_history[\"train_acc\"] ])\n",
        "hl.build_graph(model, torch.zeros([16, 1, 3, 3]))"
      ],
      "execution_count": 37,
      "outputs": [
        {
          "output_type": "display_data",
          "data": {
            "image/png": "[encoded data removed]",
            "text/plain": [
              "<Figure size 864x288 with 1 Axes>"
            ]
          },
          "metadata": {
            "tags": [],
            "needs_background": "light"
          }
        },
        {
          "output_type": "execute_result",
          "data": {
            "text/plain": [
              "<hiddenlayer.graph.Graph at 0x7f1b37869390>"
            ],
            "image/svg+xml": "<?xml version=\"1.0\" encoding=\"UTF-8\" standalone=\"no\"?>\n<!DOCTYPE svg PUBLIC \"-//W3C//DTD SVG 1.1//EN\"\n \"http://www.w3.org/Graphics/SVG/1.1/DTD/svg11.dtd\">\n<!-- Generated by graphviz version 2.40.1 (20161225.0304)\n -->\n<!-- Title: %3 Pages: 1 -->\n<svg width=\"817pt\" height=\"190pt\"\n viewBox=\"0.00 0.00 817.00 190.00\" xmlns=\"http://www.w3.org/2000/svg\" xmlns:xlink=\"http://www.w3.org/1999/xlink\">\n<g id=\"graph0\" class=\"graph\" transform=\"scale(1 1) rotate(0) translate(72 154)\">\n<title>%3</title>\n<polygon fill=\"#ffffff\" stroke=\"transparent\" points=\"-72,36 -72,-154 745,-154 745,36 -72,36\"/>\n<!-- /outputs/13 -->\n<g id=\"node1\" class=\"node\">\n<title>/outputs/13</title>\n<polygon fill=\"#e8e8e8\" stroke=\"#000000\" points=\"216,-41 120,-41 120,-5 216,-5 216,-41\"/>\n<text text-anchor=\"start\" x=\"128\" y=\"-20\" font-family=\"Times\" font-size=\"10.00\" fill=\"#000000\">GlobalAveragePool</text>\n</g>\n<!-- /outputs/14 -->\n<g id=\"node2\" class=\"node\">\n<title>/outputs/14</title>\n<polygon fill=\"#e8e8e8\" stroke=\"#000000\" points=\"306,-64 252,-64 252,-28 306,-28 306,-64\"/>\n<text text-anchor=\"start\" x=\"267\" y=\"-43\" font-family=\"Times\" font-size=\"10.00\" fill=\"#000000\">Shape</text>\n</g>\n<!-- /outputs/13&#45;&gt;/outputs/14 -->\n<g id=\"edge1\" class=\"edge\">\n<title>/outputs/13&#45;&gt;/outputs/14</title>\n<path fill=\"none\" stroke=\"#000000\" d=\"M216.0406,-32.9544C224.7882,-34.7669 233.7876,-36.6317 242.1481,-38.364\"/>\n<polygon fill=\"#000000\" stroke=\"#000000\" points=\"241.4673,-41.7972 251.9694,-40.3991 242.8876,-34.9428 241.4673,-41.7972\"/>\n</g>\n<!-- /outputs/21 -->\n<g id=\"node9\" class=\"node\">\n<title>/outputs/21</title>\n<polygon fill=\"#e8e8e8\" stroke=\"#000000\" points=\"673,-41 619,-41 619,-5 673,-5 673,-41\"/>\n<text text-anchor=\"start\" x=\"629\" y=\"-20\" font-family=\"Times\" font-size=\"10.00\" fill=\"#000000\">Reshape</text>\n</g>\n<!-- /outputs/13&#45;&gt;/outputs/21 -->\n<g id=\"edge2\" class=\"edge\">\n<title>/outputs/13&#45;&gt;/outputs/21</title>\n<path fill=\"none\" stroke=\"#000000\" d=\"M216.1534,-14.3702C256.7617,-7.8439 316.4903,0 369,0 369,0 369,0 462.5,0 513.3468,0 571.5079,-8.8019 608.475,-15.5157\"/>\n<polygon fill=\"#000000\" stroke=\"#000000\" points=\"608.3038,-19.0438 618.7753,-17.4323 609.5844,-12.162 608.3038,-19.0438\"/>\n</g>\n<!-- /outputs/16 -->\n<g id=\"node4\" class=\"node\">\n<title>/outputs/16</title>\n<polygon fill=\"#e8e8e8\" stroke=\"#000000\" points=\"396,-64 342,-64 342,-28 396,-28 396,-64\"/>\n<text text-anchor=\"start\" x=\"355\" y=\"-43\" font-family=\"Times\" font-size=\"10.00\" fill=\"#000000\">Gather</text>\n</g>\n<!-- /outputs/14&#45;&gt;/outputs/16 -->\n<g id=\"edge3\" class=\"edge\">\n<title>/outputs/14&#45;&gt;/outputs/16</title>\n<path fill=\"none\" stroke=\"#000000\" d=\"M306.003,-46C314.0277,-46 322.9665,-46 331.5309,-46\"/>\n<polygon fill=\"#000000\" stroke=\"#000000\" points=\"331.7051,-49.5001 341.705,-46 331.705,-42.5001 331.7051,-49.5001\"/>\n</g>\n<!-- /outputs/15 -->\n<g id=\"node3\" class=\"node\">\n<title>/outputs/15</title>\n<polygon fill=\"#e8e8e8\" stroke=\"#000000\" points=\"306,-118 252,-118 252,-82 306,-82 306,-118\"/>\n<text text-anchor=\"start\" x=\"261\" y=\"-97\" font-family=\"Times\" font-size=\"10.00\" fill=\"#000000\">Constant</text>\n</g>\n<!-- /outputs/15&#45;&gt;/outputs/16 -->\n<g id=\"edge4\" class=\"edge\">\n<title>/outputs/15&#45;&gt;/outputs/16</title>\n<path fill=\"none\" stroke=\"#000000\" d=\"M306.003,-83.7982C314.4686,-78.7188 323.9516,-73.029 332.9389,-67.6366\"/>\n<polygon fill=\"#000000\" stroke=\"#000000\" points=\"334.9308,-70.5232 341.705,-62.377 331.3293,-64.5208 334.9308,-70.5232\"/>\n</g>\n<!-- /outputs/18 -->\n<g id=\"node6\" class=\"node\">\n<title>/outputs/18</title>\n<polygon fill=\"#e8e8e8\" stroke=\"#000000\" points=\"493,-64 432,-64 432,-28 493,-28 493,-64\"/>\n<text text-anchor=\"start\" x=\"440.5\" y=\"-43\" font-family=\"Times\" font-size=\"10.00\" fill=\"#000000\">Unsqueeze</text>\n</g>\n<!-- /outputs/16&#45;&gt;/outputs/18 -->\n<g id=\"edge5\" class=\"edge\">\n<title>/outputs/16&#45;&gt;/outputs/18</title>\n<path fill=\"none\" stroke=\"#000000\" d=\"M396.0441,-46C404.1072,-46 413.1275,-46 421.8587,-46\"/>\n<polygon fill=\"#000000\" stroke=\"#000000\" points=\"421.9008,-49.5001 431.9008,-46 421.9007,-42.5001 421.9008,-49.5001\"/>\n</g>\n<!-- /outputs/17 -->\n<g id=\"node5\" class=\"node\">\n<title>/outputs/17</title>\n<polygon fill=\"#e8e8e8\" stroke=\"#000000\" points=\"396,-118 342,-118 342,-82 396,-82 396,-118\"/>\n<text text-anchor=\"start\" x=\"351\" y=\"-97\" font-family=\"Times\" font-size=\"10.00\" fill=\"#000000\">Constant</text>\n</g>\n<!-- /outputs/19 -->\n<g id=\"node7\" class=\"node\">\n<title>/outputs/19</title>\n<polygon fill=\"#e8e8e8\" stroke=\"#000000\" points=\"493,-118 432,-118 432,-82 493,-82 493,-118\"/>\n<text text-anchor=\"start\" x=\"440.5\" y=\"-97\" font-family=\"Times\" font-size=\"10.00\" fill=\"#000000\">Unsqueeze</text>\n</g>\n<!-- /outputs/17&#45;&gt;/outputs/19 -->\n<g id=\"edge6\" class=\"edge\">\n<title>/outputs/17&#45;&gt;/outputs/19</title>\n<path fill=\"none\" stroke=\"#000000\" d=\"M396.0441,-100C404.1072,-100 413.1275,-100 421.8587,-100\"/>\n<polygon fill=\"#000000\" stroke=\"#000000\" points=\"421.9008,-103.5001 431.9008,-100 421.9007,-96.5001 421.9008,-103.5001\"/>\n</g>\n<!-- /outputs/20 -->\n<g id=\"node8\" class=\"node\">\n<title>/outputs/20</title>\n<polygon fill=\"#e8e8e8\" stroke=\"#000000\" points=\"583,-64 529,-64 529,-28 583,-28 583,-64\"/>\n<text text-anchor=\"start\" x=\"541\" y=\"-43\" font-family=\"Times\" font-size=\"10.00\" fill=\"#000000\">Concat</text>\n</g>\n<!-- /outputs/18&#45;&gt;/outputs/20 -->\n<g id=\"edge7\" class=\"edge\">\n<title>/outputs/18&#45;&gt;/outputs/20</title>\n<path fill=\"none\" stroke=\"#000000\" d=\"M493.1154,-46C501.294,-46 510.2234,-46 518.7177,-46\"/>\n<polygon fill=\"#000000\" stroke=\"#000000\" points=\"518.7832,-49.5001 528.7832,-46 518.7832,-42.5001 518.7832,-49.5001\"/>\n</g>\n<!-- /outputs/19&#45;&gt;/outputs/20 -->\n<g id=\"edge8\" class=\"edge\">\n<title>/outputs/19&#45;&gt;/outputs/20</title>\n<path fill=\"none\" stroke=\"#000000\" d=\"M493.1154,-82.3184C501.7433,-77.3354 511.207,-71.8698 520.1137,-66.7258\"/>\n<polygon fill=\"#000000\" stroke=\"#000000\" points=\"521.8741,-69.7509 528.7832,-61.7188 518.3732,-63.6892 521.8741,-69.7509\"/>\n</g>\n<!-- /outputs/20&#45;&gt;/outputs/21 -->\n<g id=\"edge9\" class=\"edge\">\n<title>/outputs/20&#45;&gt;/outputs/21</title>\n<path fill=\"none\" stroke=\"#000000\" d=\"M583.003,-39.0992C591.1158,-37.0259 600.1631,-34.7139 608.8131,-32.5033\"/>\n<polygon fill=\"#000000\" stroke=\"#000000\" points=\"609.883,-35.8425 618.705,-29.9754 608.1498,-29.0604 609.883,-35.8425\"/>\n</g>\n<!-- 16165562672337208489 -->\n<g id=\"node10\" class=\"node\">\n<title>16165562672337208489</title>\n<polygon fill=\"#e8e8e8\" stroke=\"#000000\" points=\"84,-45 0,-45 0,-1 84,-1 84,-45\"/>\n<text text-anchor=\"start\" x=\"8\" y=\"-29\" font-family=\"Times\" font-size=\"10.00\" fill=\"#000000\">Conv3x3 &gt; Relu</text>\n<text text-anchor=\"start\" x=\"69\" y=\"-8\" font-family=\"Times\" font-size=\"10.00\" fill=\"#000000\">x3</text>\n</g>\n<!-- 16165562672337208489&#45;&gt;/outputs/13 -->\n<g id=\"edge10\" class=\"edge\">\n<title>16165562672337208489&#45;&gt;/outputs/13</title>\n<path fill=\"none\" stroke=\"#000000\" d=\"M84.3067,-23C92.5284,-23 101.279,-23 109.9062,-23\"/>\n<polygon fill=\"#000000\" stroke=\"#000000\" points=\"109.938,-26.5001 119.9379,-23 109.9379,-19.5001 109.938,-26.5001\"/>\n</g>\n</g>\n</svg>\n"
          },
          "metadata": {
            "tags": []
          },
          "execution_count": 37
        }
      ]
    },
    {
      "cell_type": "code",
      "metadata": {
        "id": "T_LJDItQOo1m"
      },
      "source": [
        ""
      ],
      "execution_count": null,
      "outputs": []
    }
  ]
}